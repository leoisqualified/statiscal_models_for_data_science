{
 "cells": [
  {
   "cell_type": "markdown",
   "metadata": {},
   "source": [
    "This notebook contains the tutorial for DCIT 405 Statistical Models for Data Science\n",
    "\n",
    "# Chapter One: Exploratory Data Analysis"
   ]
  },
  {
   "cell_type": "code",
   "execution_count": 17,
   "metadata": {},
   "outputs": [],
   "source": [
    "# import the libraries\n",
    "import pandas as pd\n",
    "import numpy as np\n",
    "import matplotlib.pyplot as plt\n",
    "import seaborn as sns\n",
    "import os\n",
    "from scipy.stats import trim_mean\n",
    "import wquantiles"
   ]
  },
  {
   "cell_type": "code",
   "execution_count": 4,
   "metadata": {},
   "outputs": [
    {
     "name": "stdout",
     "output_type": "stream",
     "text": [
      "        State  Population  Murder.Rate Abbreviation\n",
      "0     Alabama     4779736          5.7           AL\n",
      "1      Alaska      710231          5.6           AK\n",
      "2     Arizona     6392017          4.7           AZ\n",
      "3    Arkansas     2915918          5.6           AR\n",
      "4  California    37253956          4.4           CA\n"
     ]
    }
   ],
   "source": [
    "# define data path\n",
    "DATA_PATH = r'C:\\Users\\user\\Downloads\\statiscal_models_for_data_science'\n",
    "\n",
    "state = pd.read_csv(os.path.join(DATA_PATH, 'state.csv'))\n",
    "\n",
    "print(state.head())"
   ]
  },
  {
   "cell_type": "code",
   "execution_count": 6,
   "metadata": {},
   "outputs": [
    {
     "name": "stdout",
     "output_type": "stream",
     "text": [
      "Population mean:6162876.3\n",
      "Population mean trimmed:4783697.125\n",
      "Population mean:4436369.5\n"
     ]
    }
   ],
   "source": [
    "# Find the population mean\n",
    "pop_mean = state['Population'].mean()\n",
    "pop_mean_trimmed = trim_mean(state['Population'], 0.1) # Using the trimmed mean to account for outliers\n",
    "pop_median = state['Population'].median()\n",
    "\n",
    "\n",
    "print(f\"Population mean:{pop_mean}\")\n",
    "print(f\"Population mean trimmed:{pop_mean_trimmed}\")\n",
    "print(f\"Population mean:{pop_median}\")"
   ]
  },
  {
   "cell_type": "markdown",
   "metadata": {},
   "source": [
    "##  Key Ideas\n",
    "- The basic metric for location is the mean, but it can be sensitive to extreme\n",
    "values (outlier).\n",
    "\n",
    "- Other metrics (median, trimmed mean) are less sensitive to outliers and unusual\n",
    "distributions and hence are more robust."
   ]
  },
  {
   "cell_type": "markdown",
   "metadata": {},
   "source": [
    "Since the mean for the population are different. We need to account this for other variable in the data"
   ]
  },
  {
   "cell_type": "code",
   "execution_count": 13,
   "metadata": {},
   "outputs": [
    {
     "name": "stdout",
     "output_type": "stream",
     "text": [
      "Weighted Mean:4.445833981123393\n",
      "Weighted Median:4.4\n"
     ]
    }
   ],
   "source": [
    "# Apply Weighted Mean\n",
    "weighted_mean = np.average(state['Murder.Rate'], weights= state['Population'])\n",
    "weighted_median = wquantiles.median(state['Murder.Rate'], weights= state['Population'])\n",
    "\n",
    "print(f\"Weighted Mean:{weighted_mean}\")\n",
    "print(f\"Weighted Median:{weighted_median}\")"
   ]
  },
  {
   "cell_type": "markdown",
   "metadata": {},
   "source": [
    "# Statistics Of Variability"
   ]
  },
  {
   "cell_type": "markdown",
   "metadata": {},
   "source": [
    "Next we want to check how the data is spread. We can use the Variance which is the average of distances from the mean squared. The next is standard deviation which is the square root of the variance. The last is the interquantile range which is the difference between the third quantile and the first quantile"
   ]
  },
  {
   "cell_type": "code",
   "execution_count": 15,
   "metadata": {},
   "outputs": [
    {
     "name": "stdout",
     "output_type": "stream",
     "text": [
      "std: 6848235.347401142 iqr: 4847308.0\n"
     ]
    }
   ],
   "source": [
    "# standard deviation\n",
    "std = state['Population'].std()\n",
    "iqr = np.quantile(state['Population'], 0.75) - np.quantile(state['Population'], 0.25)\n",
    "\n",
    "print('std:', std, 'iqr:', iqr)"
   ]
  },
  {
   "cell_type": "markdown",
   "metadata": {},
   "source": [
    "# Exploring the Data Distribution"
   ]
  },
  {
   "cell_type": "markdown",
   "metadata": {},
   "source": [
    "- boxplots"
   ]
  },
  {
   "cell_type": "code",
   "execution_count": 25,
   "metadata": {},
   "outputs": [
    {
     "name": "stderr",
     "output_type": "stream",
     "text": [
      "C:\\Users\\user\\AppData\\Local\\Temp\\ipykernel_16572\\274193883.py:5: FutureWarning: \n",
      "\n",
      "Passing `palette` without assigning `hue` is deprecated and will be removed in v0.14.0. Assign the `x` variable to `hue` and set `legend=False` for the same effect.\n",
      "\n",
      "  sns.boxplot(\n"
     ]
    },
    {
     "data": {
      "image/png": "[encoded data removed]",
      "text/plain": [
       "<Figure size 800x600 with 1 Axes>"
      ]
     },
     "metadata": {},
     "output_type": "display_data"
    }
   ],
   "source": [
    "# Set figure size\n",
    "plt.figure(figsize=(8, 6))\n",
    "\n",
    "# Create boxplot with values divided by 1,000,000\n",
    "sns.boxplot(\n",
    "    y=state['Population'] / 1_000_000,\n",
    "    width=0.4,  \n",
    "    palette=\"coolwarm\"\n",
    ")\n",
    "\n",
    "# Customize labels and title\n",
    "plt.ylabel('Population (millions)', fontsize=14, labelpad=10)\n",
    "plt.title('Distribution of Population in Millions', fontsize=16, pad=15)\n",
    "\n",
    "# Add grid for better readability\n",
    "plt.grid(axis='y', linestyle='--', alpha=0.7)\n",
    "\n",
    "# Show the plot\n",
    "plt.tight_layout() \n",
    "plt.show()\n"
   ]
  },
  {
   "cell_type": "markdown",
   "metadata": {},
   "source": [
    "- Frequency Table"
   ]
  },
  {
   "cell_type": "code",
   "execution_count": 31,
   "metadata": {},
   "outputs": [
    {
     "name": "stdout",
     "output_type": "stream",
     "text": [
      "Population\n",
      "(526935.67, 4232659.0]      24\n",
      "(4232659.0, 7901692.0]      14\n",
      "(7901692.0, 11570725.0]      6\n",
      "(11570725.0, 15239758.0]     2\n",
      "(15239758.0, 18908791.0]     1\n",
      "(18908791.0, 22577824.0]     1\n",
      "(22577824.0, 26246857.0]     1\n",
      "(33584923.0, 37253956.0]     1\n",
      "(26246857.0, 29915890.0]     0\n",
      "(29915890.0, 33584923.0]     0\n",
      "Name: count, dtype: int64\n"
     ]
    }
   ],
   "source": [
    "binnedPopulation = pd.cut(state['Population'], bins= 10)\n",
    "\n",
    "print(binnedPopulation.value_counts())"
   ]
  },
  {
   "cell_type": "code",
   "execution_count": null,
   "metadata": {},
   "outputs": [],
   "source": []
  }
 ],
 "metadata": {
  "kernelspec": {
   "display_name": "Python 3",
   "language": "python",
   "name": "python3"
  },
  "language_info": {
   "codemirror_mode": {
    "name": "ipython",
    "version": 3
   },
   "file_extension": ".py",
   "mimetype": "text/x-python",
   "name": "python",
   "nbconvert_exporter": "python",
   "pygments_lexer": "ipython3",
   "version": "3.11.4"
  },
  "orig_nbformat": 4
 },
 "nbformat": 4,
 "nbformat_minor": 2
}
